{
 "cells": [
  {
   "cell_type": "code",
   "execution_count": 58,
   "metadata": {
    "collapsed": true
   },
   "outputs": [
    {
     "name": "stdout",
     "output_type": "stream",
     "text": [
      "[19.59999379  9.79999689  0.          0.        ]\n"
     ]
    },
    {
     "data": {
      "text/plain": "array([  0.        ,   0.        , -19.59999379,  -9.79999689])"
     },
     "execution_count": 58,
     "metadata": {},
     "output_type": "execute_result"
    }
   ],
   "source": [
    "import autograd\n",
    "import autograd.numpy as np\n",
    "\n",
    "import scipy.integrate\n",
    "solve_ivp = scipy.integrate.solve_ivp\n",
    "m1 =  1.0\n",
    "m2 = 1.0\n",
    "l1 = 1.0\n",
    "l2 = 1.0\n",
    "g = 9.8\n",
    "state = np.array([1.57, 1.57, 0., 0.])\n",
    "\n",
    "def hamiltonian_fn(coords):\n",
    "    state = coords\n",
    "    H = (m2*(l2*state[2])**2+ (m1+m2)*(l1*state[3])**2- 2*m2*l1*l2*state[2]*state[3]*np.cos(state[0]-state[1]))/(2*m2*((l1*l2)**2)*(m1+m2*(np.sin(state[0]-state[1]))**2))\\\n",
    "        -(m1+m2)*g*l1*np.cos(state[0])-m2*g*l2*np.cos(state[1])\n",
    "    return H\n",
    "\n",
    "def dynamics_fn(t, coords):\n",
    "    dcoords = autograd.grad(hamiltonian_fn)(coords)\n",
    "\n",
    "    dqdt, dpdt = dcoords[2:],-dcoords[0:2]\n",
    "    S = np.concatenate([dqdt,dpdt],axis=-1)\n",
    "    return S\n",
    "hamiltonian_fn(state)\n",
    "dynamics_fn(0,state)\n"
   ]
  },
  {
   "cell_type": "code",
   "execution_count": 20,
   "outputs": [
    {
     "data": {
      "text/plain": "array([1, 2, 3, 4])"
     },
     "execution_count": 20,
     "metadata": {},
     "output_type": "execute_result"
    }
   ],
   "source": [
    "a=np.array([[1,2],[3,4]])\n",
    "b = np.array([1,2])\n",
    "c = np.array([3,4])\n",
    "np.concatenate((b,c),axis=-1)"
   ],
   "metadata": {
    "collapsed": false,
    "pycharm": {
     "name": "#%%\n"
    }
   }
  },
  {
   "cell_type": "code",
   "execution_count": 41,
   "outputs": [],
   "source": [
    "def hamiltonian_fnp(coords):\n",
    "    q, p = np.split(coords,2)\n",
    "    H = 3*(1-np.cos(q)) + p**2 # pendulum hamiltonian\n",
    "    print(H)\n",
    "    return H\n",
    "\n",
    "def dynamics_fnp(t, coords):\n",
    "    dcoords = autograd.grad(hamiltonian_fnp)(coords)\n",
    "    print(dcoords)\n",
    "    dqdt, dpdt = np.split(dcoords,2)\n",
    "    S = np.concatenate([dpdt, -dqdt], axis=-1)\n",
    "    return S"
   ],
   "metadata": {
    "collapsed": false,
    "pycharm": {
     "name": "#%%\n"
    }
   }
  },
  {
   "cell_type": "code",
   "execution_count": 43,
   "outputs": [
    {
     "name": "stdout",
     "output_type": "stream",
     "text": [
      "Autograd ArrayBox with value [2.99761102]\n",
      "[2.99999905 0.        ]\n"
     ]
    },
    {
     "data": {
      "text/plain": "array([ 0.        , -2.99999905])"
     },
     "execution_count": 43,
     "metadata": {},
     "output_type": "execute_result"
    }
   ],
   "source": [
    "y0 = np.array([1.57,0.])\n",
    "dynamics_fnp(None, y0)"
   ],
   "metadata": {
    "collapsed": false,
    "pycharm": {
     "name": "#%%\n"
    }
   }
  },
  {
   "cell_type": "code",
   "execution_count": null,
   "outputs": [],
   "source": [],
   "metadata": {
    "collapsed": false,
    "pycharm": {
     "name": "#%%\n"
    }
   }
  }
 ],
 "metadata": {
  "kernelspec": {
   "display_name": "Python 3",
   "language": "python",
   "name": "python3"
  },
  "language_info": {
   "codemirror_mode": {
    "name": "ipython",
    "version": 2
   },
   "file_extension": ".py",
   "mimetype": "text/x-python",
   "name": "python",
   "nbconvert_exporter": "python",
   "pygments_lexer": "ipython2",
   "version": "2.7.6"
  }
 },
 "nbformat": 4,
 "nbformat_minor": 0
}