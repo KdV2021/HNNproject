{
 "cells": [
  {
   "cell_type": "code",
   "execution_count": 5,
   "metadata": {
    "collapsed": true
   },
   "outputs": [
    {
     "name": "stdout",
     "output_type": "stream",
     "text": [
      "tensor([[[ 2.0000,  0.0000]],\n",
      "\n",
      "        [[-0.8369, -1.0681]],\n",
      "\n",
      "        [[-0.8607,  0.5598]],\n",
      "\n",
      "        [[ 0.7334, -0.4499]],\n",
      "\n",
      "        [[-0.2214,  0.6640]],\n",
      "\n",
      "        [[-0.5650, -0.4155]],\n",
      "\n",
      "        [[ 0.3843, -0.5189]],\n",
      "\n",
      "        [[ 0.5102,  0.2333]],\n",
      "\n",
      "        [[ 0.0047,  0.4854]],\n",
      "\n",
      "        [[-0.4436,  0.2794]]])\n"
     ]
    }
   ],
   "source": [
    "import torch\n",
    "from torchdiffeq import odeint\n",
    "import torch.nn as nn\n",
    "device = torch.device('cuda:'  if torch.cuda.is_available() else 'cpu')\n",
    "true_y0 = torch.tensor([[2., 0.]]).to(device)\n",
    "t = torch.linspace(0., 25., 10).to(device)\n",
    "true_A = torch.tensor([[-0.1, 2.0], [-2.0, -0.1]]).to(device)\n",
    "\n",
    "\n",
    "class Lambda(nn.Module):\n",
    "\n",
    "    def forward(self, t, y):\n",
    "        return torch.mm(y**3, true_A)\n",
    "\n",
    "\n",
    "with torch.no_grad():\n",
    "    true_y = odeint(Lambda(), true_y0, t, method='dopri5')\n",
    "print(true_y)"
   ]
  },
  {
   "cell_type": "code",
   "execution_count": null,
   "outputs": [],
   "source": [],
   "metadata": {
    "collapsed": false,
    "pycharm": {
     "name": "#%%\n"
    }
   }
  }
 ],
 "metadata": {
  "kernelspec": {
   "display_name": "Python 3",
   "language": "python",
   "name": "python3"
  },
  "language_info": {
   "codemirror_mode": {
    "name": "ipython",
    "version": 2
   },
   "file_extension": ".py",
   "mimetype": "text/x-python",
   "name": "python",
   "nbconvert_exporter": "python",
   "pygments_lexer": "ipython2",
   "version": "2.7.6"
  }
 },
 "nbformat": 4,
 "nbformat_minor": 0
}